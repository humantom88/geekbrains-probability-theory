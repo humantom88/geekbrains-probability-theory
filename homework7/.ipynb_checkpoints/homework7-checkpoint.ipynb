{
 "cells": [
  {
   "cell_type": "markdown",
   "metadata": {},
   "source": [
    "## Задание 1\n",
    "\n",
    "Даны значения величины заработной платы заемщиков банка (zp) и значения их поведенческого кредитного скоринга (ks): \\\n",
    "zp = [35, 45, 190, 200, 40, 70, 54, 150, 120, 110], \\\n",
    "ks = [401, 574, 874, 919, 459, 739, 653, 902, 746, 832]. \n",
    "\n",
    "Используя математические операции, посчитать коэффициенты линейной регрессии, приняв за X заработную плату (то есть, zp - признак), \n",
    "а за y - значения скорингового балла (то есть, ks - целевая переменная). \n",
    "\n",
    "Произвести расчет как с использованием intercept, так и без."
   ]
  },
  {
   "cell_type": "code",
   "execution_count": 34,
   "metadata": {},
   "outputs": [
    {
     "data": {
      "text/plain": [
       "(array([[444.17735732],\n",
       "        [  2.62053888]]),\n",
       " array([[5.88982042]]))"
      ]
     },
     "execution_count": 34,
     "metadata": {},
     "output_type": "execute_result"
    }
   ],
   "source": [
    "import numpy as np\n",
    "\n",
    "X = np.array([35, 45, 190, 200, 40, 70, 54, 150, 120, 110])\n",
    "X = X.reshape((10, 1))\n",
    "Y = np.array([401, 574, 874, 919, 459, 739, 653, 902, 746, 832])\n",
    "Y = Y.reshape((10, 1))\n",
    "\n",
    "X_intercept = np.hstack([np.ones((10, 1)), X])\n",
    "\n",
    "B = np.dot(np.linalg.inv(np.dot(X_intercept.T, X_intercept)), X_intercept.T@Y)\n",
    "B_intercept = np.dot(np.linalg.inv(np.dot(X.T, X)), X.T@Y)\n",
    "B, B_intercept"
   ]
  },
  {
   "cell_type": "markdown",
   "metadata": {},
   "source": [
    "## Задание 2\n",
    "\n",
    "Посчитать коэффициент линейной регрессии при заработной плате (zp), используя градиентный спуск (без intercept)."
   ]
  },
  {
   "cell_type": "code",
   "execution_count": 107,
   "metadata": {},
   "outputs": [],
   "source": [
    "def mse_(B1, Y=Y, X=X, n=10):\n",
    "    return np.sum((B1*X-Y)**2)/n\n",
    "\n",
    "alpha = 1e-5\n",
    "B1 = 1\n",
    "n = 10"
   ]
  },
  {
   "cell_type": "code",
   "execution_count": 109,
   "metadata": {},
   "outputs": [
    {
     "name": "stdout",
     "output_type": "stream",
     "text": [
      "Iteration: 0, B1=5.748727835228332, mse=56791.110810876475\n",
      "Iteration: 1, B1=5.787603357332199, mse=56660.8008502462\n",
      "Iteration: 2, B1=5.815767429079743, mse=56592.40716141274\n",
      "Iteration: 3, B1=5.836171397810544, mse=56556.510468254135\n",
      "Iteration: 4, B1=5.850953420229009, mse=56537.66994946213\n",
      "Iteration: 5, B1=5.86166252244647, mse=56527.781430015966\n",
      "Iteration: 6, B1=5.86942092431175, mse=56522.59140218727\n",
      "Iteration: 7, B1=5.8750416381942845, mse=56519.867395928384\n",
      "Iteration: 8, B1=5.879113665539337, mse=56518.43769066604\n",
      "Iteration: 9, B1=5.882063719045952, mse=56517.68730430751\n",
      "Iteration: 10, B1=5.884200938409783, mse=56517.293461113455\n",
      "Iteration: 11, B1=5.885749285447859, mse=56517.08675098376\n",
      "Iteration: 12, B1=5.88687101332984, mse=56516.978258369534\n",
      "Iteration: 13, B1=5.8876836692850425, mse=56516.921315599684\n",
      "Iteration: 14, B1=5.888272412519596, mse=56516.891428965806\n",
      "Iteration: 15, B1=5.888698938153246, mse=56516.87574284999\n",
      "Iteration: 16, B1=5.889007942326006, mse=56516.867509931166\n",
      "Iteration: 17, B1=5.889231805961037, mse=56516.863188851756\n",
      "Iteration: 18, B1=5.889393988000981, mse=56516.86092091645\n",
      "Iteration: 19, B1=5.889511483699095, mse=56516.85973058181\n"
     ]
    }
   ],
   "source": [
    "for i in range(n*2):\n",
    "    B1 -= alpha*(2/n)*np.sum((B1*X-Y)*X)\n",
    "    #if i % 20 == 0:\n",
    "    print('Iteration: {i}, B1={B1}, mse={mse}'.format(i=i, B1=B1, mse=mse_(B1)))"
   ]
  },
  {
   "cell_type": "markdown",
   "metadata": {},
   "source": [
    "## Задание 3\n",
    "\n",
    "В каких случаях для вычисления доверительных интервалов и проверки статистических гипотез используется таблица значений функции Лапласа, а в каких - таблица критических точек распределения Стьюдента?"
   ]
  },
  {
   "cell_type": "markdown",
   "metadata": {},
   "source": [
    "Таблица Лапласа используется когда известно значение $\\sigma$, когда неизвестно - используется таблица распределения Стьюдента"
   ]
  },
  {
   "cell_type": "markdown",
   "metadata": {},
   "source": [
    "## Задание 4\n",
    "\n",
    "*4. Произвести вычисления как в пункте 2, но с вычислением intercept. Учесть, что изменение коэффициентов должно производиться на каждом шаге одновременно (то есть изменение одного коэффициента не должно влиять на изменение другого во время одной итерации)."
   ]
  },
  {
   "cell_type": "code",
   "execution_count": null,
   "metadata": {},
   "outputs": [],
   "source": []
  }
 ],
 "metadata": {
  "kernelspec": {
   "display_name": "Python 3",
   "language": "python",
   "name": "python3"
  },
  "language_info": {
   "codemirror_mode": {
    "name": "ipython",
    "version": 3
   },
   "file_extension": ".py",
   "mimetype": "text/x-python",
   "name": "python",
   "nbconvert_exporter": "python",
   "pygments_lexer": "ipython3",
   "version": "3.8.2"
  }
 },
 "nbformat": 4,
 "nbformat_minor": 4
}
