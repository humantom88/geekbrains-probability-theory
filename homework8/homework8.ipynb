{
 "cells": [
  {
   "cell_type": "markdown",
   "metadata": {},
   "source": [
    "## Задание 1"
   ]
  },
  {
   "cell_type": "markdown",
   "metadata": {},
   "source": [
    "Провести дисперсионный анализ для определения того, есть ли различия среднего роста среди взрослых футболистов, хоккеистов и штангистов. Даны значения роста в трех группах случайно выбранных спортсменов: Футболисты: 173, 175, 180, 178, 177, 185, 183, 182. Хоккеисты: 177, 179, 180, 188, 177, 172, 171, 184, 180. Штангисты: 172, 173, 169, 177, 166, 180, 178, 177, 172, 166, 170."
   ]
  },
  {
   "cell_type": "markdown",
   "metadata": {},
   "source": [
    "### Решение"
   ]
  },
  {
   "cell_type": "markdown",
   "metadata": {},
   "source": [
    "Гипотеза - рост спортсменов зависит от вида спорта:\n",
    "$\\mu_0 \\neq \\mu_1 \\neq \\mu_2$"
   ]
  },
  {
   "cell_type": "code",
   "execution_count": 1,
   "metadata": {},
   "outputs": [],
   "source": [
    "import numpy as np\n",
    "\n",
    "fb = [173, 175, 180, 178, 177, 185, 183, 182]\n",
    "hk = [177, 179, 180, 188, 177, 172, 171, 184, 180]\n",
    "sht = [172, 173, 169, 177, 166, 180, 178, 177, 172, 166, 170]"
   ]
  },
  {
   "cell_type": "code",
   "execution_count": 2,
   "metadata": {},
   "outputs": [],
   "source": [
    "# Используем однофакторный анализ (вид спорта), k = 3"
   ]
  },
  {
   "cell_type": "code",
   "execution_count": 20,
   "metadata": {},
   "outputs": [
    {
     "data": {
      "text/plain": [
       "(True, 5.585510360713357)"
      ]
     },
     "execution_count": 20,
     "metadata": {},
     "output_type": "execute_result"
    }
   ],
   "source": [
    "y_fb_mean = np.mean(fb)\n",
    "y_hk_mean = np.mean(hk)\n",
    "y_sht_mean = np.mean(sht)\n",
    "\n",
    "y_mean = (y_fb_mean + y_hk_mean + y_sht_mean) / 3\n",
    "\n",
    "n_fb = len(fb)\n",
    "n_hk = len(hk)\n",
    "n_sht = len(sht)\n",
    "\n",
    "y_all = np.concatenate((fb, hk, sht))\n",
    "\n",
    "S2_ = np.sum((y_all - y_mean)**2)\n",
    "\n",
    "S2f = ((y_fb_mean - y_mean)**2) * n_fb + ((y_hk_mean - y_mean)**2) * n_hk + ((y_sht_mean - y_mean)**2) * n_sht\n",
    "S2ost = np.sum((np.array(fb) - y_fb_mean)**2) + np.sum((np.array(hk) - y_hk_mean)**2) + np.sum((np.array(sht) - y_sht_mean)**2)\n",
    "S2 = S2f + S2ost\n",
    "\n",
    "k = 3\n",
    "n = len(y_all)\n",
    "\n",
    "sigma2_obhs = S2 / (n - 1)\n",
    "sigma2_f = S2f / (k - 1)\n",
    "sigma2_ost = S2ost / (n - k)\n",
    "\n",
    "Fnab = sigma2_f / sigma2_ost\n",
    "\n",
    "# Ищем Fкрит в таблице Фишера - Снедекора\n",
    "alpha = 0.05\n",
    "k1 = k - 1 # 2\n",
    "k2 = n - k # 25\n",
    "\n",
    "Fkrit = 2.55\n",
    "\n",
    "# ===\n",
    "\n",
    "Fnab > Fkrit, Fnab"
   ]
  },
  {
   "cell_type": "markdown",
   "metadata": {},
   "source": [
    "\n",
    "$\\implies$ Гипотеза верна, рост зависит от вида спорта на уровне значимости alpha = 0.05"
   ]
  },
  {
   "cell_type": "markdown",
   "metadata": {},
   "source": [
    "### Проверка"
   ]
  },
  {
   "cell_type": "code",
   "execution_count": 21,
   "metadata": {},
   "outputs": [],
   "source": [
    "from scipy import stats"
   ]
  },
  {
   "cell_type": "code",
   "execution_count": 22,
   "metadata": {},
   "outputs": [
    {
     "data": {
      "text/plain": [
       "F_onewayResult(statistic=5.500053450812596, pvalue=0.010482206918698694)"
      ]
     },
     "execution_count": 22,
     "metadata": {},
     "output_type": "execute_result"
    }
   ],
   "source": [
    "stats.f_oneway(fb, hk, sht)"
   ]
  }
 ],
 "metadata": {
  "kernelspec": {
   "display_name": "Python 3",
   "language": "python",
   "name": "python3"
  },
  "language_info": {
   "codemirror_mode": {
    "name": "ipython",
    "version": 3
   },
   "file_extension": ".py",
   "mimetype": "text/x-python",
   "name": "python",
   "nbconvert_exporter": "python",
   "pygments_lexer": "ipython3",
   "version": "3.7.3"
  }
 },
 "nbformat": 4,
 "nbformat_minor": 4
}
