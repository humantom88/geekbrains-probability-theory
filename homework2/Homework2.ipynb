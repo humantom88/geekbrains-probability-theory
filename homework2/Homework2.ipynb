{
 "cells": [
  {
   "cell_type": "markdown",
   "metadata": {},
   "source": [
    "## Практическое задание по теме: Дискретные случайные величины. Закон распределения вероятностей. Биномиальный закон распределения. Распределение Пуассона"
   ]
  },
  {
   "cell_type": "markdown",
   "metadata": {},
   "source": [
    "## Задание 1\n",
    "\n",
    "Вероятность того, что стрелок попадет в мишень, выстрелив один раз, равна 0.8. Стрелок выстрелил 100 раз. Найдите вероятность того, что стрелок попадет в цель ровно 85 раз."
   ]
  },
  {
   "cell_type": "markdown",
   "metadata": {},
   "source": [
    "### Решение"
   ]
  },
  {
   "cell_type": "markdown",
   "metadata": {},
   "source": [
    "Воспользуемся формулой Бернулли: $$P_n(X=k)=C_n^kp^kq^{n-k}$$"
   ]
  },
  {
   "cell_type": "markdown",
   "metadata": {},
   "source": [
    "$P_{85}(85)=\\frac{100!}{85!(100-85)!}0.8^{85}0.2^{100-85}$"
   ]
  },
  {
   "cell_type": "code",
   "execution_count": 10,
   "metadata": {},
   "outputs": [
    {
     "data": {
      "text/plain": [
       "0.048061793700746556"
      ]
     },
     "execution_count": 10,
     "metadata": {},
     "output_type": "execute_result"
    }
   ],
   "source": [
    "from math import factorial as fac\n",
    "P = fac(100)/(fac(85)*fac(15)) * 0.8**85*0.2**15\n",
    "P"
   ]
  },
  {
   "cell_type": "markdown",
   "metadata": {},
   "source": [
    "## Задание 2\n",
    "\n",
    "Вероятность того, что лампочка перегорит в течение первого дня эксплуатации, равна 0.0004. В жилом комплексе после ремонта в один день включили 5000 новых лампочек. Какова вероятность, что ни одна из них не перегорит в первый день? Какова вероятность, что перегорят ровно две?"
   ]
  },
  {
   "cell_type": "markdown",
   "metadata": {},
   "source": [
    "### Решение"
   ]
  },
  {
   "cell_type": "markdown",
   "metadata": {},
   "source": [
    "Воспользуемся формулой Пуассона $$P_m\\approx\\frac{\\lambda^m}{m!}\\cdot e^{-\\lambda}$$"
   ]
  },
  {
   "cell_type": "markdown",
   "metadata": {},
   "source": [
    "Вероятность, что перегорит хотя бы одна лампочка будет равна сумме вероятностей или: $P = 0.0004\\cdot5000$"
   ]
  },
  {
   "cell_type": "code",
   "execution_count": 11,
   "metadata": {},
   "outputs": [
    {
     "data": {
      "text/plain": [
       "2.0"
      ]
     },
     "execution_count": 11,
     "metadata": {},
     "output_type": "execute_result"
    }
   ],
   "source": [
    "p = 0.0004 * 5000\n",
    "p"
   ]
  },
  {
   "cell_type": "markdown",
   "metadata": {},
   "source": [
    "Следовательно вероятность, что не перегорит ни одна лампочка равна 0 (200%, что одна лампочка из 5000 перегорит)"
   ]
  },
  {
   "cell_type": "markdown",
   "metadata": {},
   "source": [
    "Вероятность, что перегорят ровно две лампочки: $P_2=\\frac{0.0004^2}{2}e^{-0.0004}$"
   ]
  },
  {
   "cell_type": "code",
   "execution_count": 12,
   "metadata": {},
   "outputs": [
    {
     "data": {
      "text/plain": [
       "7.996800639914674e-08"
      ]
     },
     "execution_count": 12,
     "metadata": {},
     "output_type": "execute_result"
    }
   ],
   "source": [
    "from math import e\n",
    "p_2 = (0.0004**2)/(2 * e**0.0004)\n",
    "p_2"
   ]
  },
  {
   "cell_type": "markdown",
   "metadata": {},
   "source": [
    "## Задание 3\n",
    "\n",
    "Монету подбросили 144 раза. Какова вероятность, что орел выпадет ровно 70 раз?"
   ]
  },
  {
   "cell_type": "markdown",
   "metadata": {},
   "source": [
    "### Решение"
   ]
  },
  {
   "cell_type": "markdown",
   "metadata": {},
   "source": [
    "Воспользуемся формулой Бернулли: $$P_n(X=k)=C_n^kp^kq^{n-k}$$"
   ]
  },
  {
   "cell_type": "code",
   "execution_count": 13,
   "metadata": {},
   "outputs": [
    {
     "data": {
      "text/plain": [
       "0.06640055025016327"
      ]
     },
     "execution_count": 13,
     "metadata": {},
     "output_type": "execute_result"
    }
   ],
   "source": [
    "p_144 = fac(144)/(fac(70)*fac(144-70)) * ((70/144)**70) * ((74/144)**(74))\n",
    "p_144"
   ]
  },
  {
   "cell_type": "markdown",
   "metadata": {},
   "source": [
    "## Задание 4\n",
    "\n",
    "В первом ящике находится 10 мячей, из которых 7 - белые. Во втором ящике - 11 мячей, из которых 9 белых. Из каждого ящика вытаскивают случайным образом по два мяча. Какова вероятность того, что все мячи белые? Какова вероятность того, что ровно два мяча белые? Какова вероятность того, что хотя бы один мяч белый?"
   ]
  },
  {
   "cell_type": "markdown",
   "metadata": {},
   "source": [
    "### Решение"
   ]
  },
  {
   "cell_type": "markdown",
   "metadata": {},
   "source": [
    "Вероятность достать первый белый мяч из первой корзины: $P1 = \\frac{7}{10}$ \\\n",
    "Число благоприятствующих сочетаний: $C_{10}^7 = \\frac{10!}{7!3!}$\n",
    "\n",
    "Вероятность достать второй белый мяч из первой корзины: $P2 = \\frac{6}{9}$ \\\n",
    "Число благоприятствующих сочетаний: $C_{9}^6 = \\frac{9!}{6!3!}$\n",
    "\n",
    "Вероятность достать первый белый мяч из второй корзины: $P3 = \\frac{9}{11}$ \\\n",
    "Число благоприятствующих сочетаний: $C_{11}^9 = \\frac{11!}{9!2!}$\n",
    "\n",
    "Вероятность достать второй белый мяч из второй корзины: $P4 = \\frac{8}{10}$\\\n",
    "Число благоприятствующих сочетаний: $C_{10}^8 = \\frac{10!}{8!2!}$"
   ]
  },
  {
   "cell_type": "markdown",
   "metadata": {},
   "source": [
    "Вероятность, что все мячи белые: $P_{white} = P_1P_2P_3P_4$"
   ]
  },
  {
   "cell_type": "code",
   "execution_count": 2,
   "metadata": {},
   "outputs": [
    {
     "data": {
      "text/plain": [
       "0.3054545454545454"
      ]
     },
     "execution_count": 2,
     "metadata": {},
     "output_type": "execute_result"
    }
   ],
   "source": [
    "p_white = 7/10 * 6/9 * 9/11 * 8/10\n",
    "p_white"
   ]
  },
  {
   "cell_type": "code",
   "execution_count": null,
   "metadata": {},
   "outputs": [],
   "source": []
  }
 ],
 "metadata": {
  "kernelspec": {
   "display_name": "Python 3",
   "language": "python",
   "name": "python3"
  },
  "language_info": {
   "codemirror_mode": {
    "name": "ipython",
    "version": 3
   },
   "file_extension": ".py",
   "mimetype": "text/x-python",
   "name": "python",
   "nbconvert_exporter": "python",
   "pygments_lexer": "ipython3",
   "version": "3.7.3"
  }
 },
 "nbformat": 4,
 "nbformat_minor": 4
}
