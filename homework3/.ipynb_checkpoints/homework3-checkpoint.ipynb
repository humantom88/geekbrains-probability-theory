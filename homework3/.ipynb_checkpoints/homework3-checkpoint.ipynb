{
 "cells": [
  {
   "cell_type": "code",
   "execution_count": null,
   "metadata": {},
   "outputs": [],
   "source": [
    "from math import factorial as fac\n",
    "def com(n, k):\n",
    "    return fac(n) / (fac(k)*fac(n-k))"
   ]
  },
  {
   "cell_type": "markdown",
   "metadata": {},
   "source": [
    "## Задание 1"
   ]
  },
  {
   "cell_type": "markdown",
   "metadata": {},
   "source": [
    "Даны значения зарплат из выборки выпускников: 100, 80, 75, 77, 89, 33, 45, 25, 65, 17, 30, 24, 57, 55, 70, 75, 65, 84, 90, 150. Посчитать (желательно без использования статистических методов наподобие std, var, mean) среднее арифметическое, среднее квадратичное отклонение, смещенную и несмещенную оценки дисперсий для данной выборки."
   ]
  },
  {
   "cell_type": "markdown",
   "metadata": {},
   "source": [
    "### Решение"
   ]
  },
  {
   "cell_type": "markdown",
   "metadata": {},
   "source": [
    "Среднее арифметическое: $\\overline{X}=\\frac{100+80+75+77+89+33+45+25+65+17+30+24+57+55+70+75+65+84+90+150}{20}=65,3$\n",
    "\n",
    "Среднеквадратичное отклонение (равно смещенной оценке дисперсии):\n",
    "$\\sigma=\\sqrt{\\frac{(100-65,3)^2 +(80-65,3)^2 +(75-65,3)^2 +(77-65,3)^2 +(89-65,3)^2 +(33-65,3)^2 +(45-65,3)^2 +(25-65,3)^2 +(65-65,3)^2 +(17-65,3)^2 +(30-65,3)^2 +(24-65,3)^2 +(57-65,3)^2 +(55-65,3)^2 +(70-65,3)^2 +(75-65,3)^2 +(65-65,3)^2 +(84-65,3)^2 +(90-65,3)^2 + (150-65,3)^2}{20}}$\n",
    "\n",
    "$\\sigma=30.82$"
   ]
  },
  {
   "cell_type": "markdown",
   "metadata": {},
   "source": [
    "Несмещенная оценка дисперсии:\n",
    "\n",
    "$S=\\sqrt{\\frac{(100-65,3)^2 +(80-65,3)^2 +(75-65,3)^2 +(77-65,3)^2 +(89-65,3)^2 +(33-65,3)^2 +(45-65,3)^2 +(25-65,3)^2 +(65-65,3)^2 +(17-65,3)^2 +(30-65,3)^2 +(24-65,3)^2 +(57-65,3)^2 +(55-65,3)^2 +(70-65,3)^2 +(75-65,3)^2 +(65-65,3)^2 +(84-65,3)^2 +(90-65,3)^2 + (150-65,3)^2}{20 - 1}}$\n",
    "\n",
    "$S = 31,62$"
   ]
  },
  {
   "cell_type": "markdown",
   "metadata": {},
   "source": [
    "## Задание 2"
   ]
  },
  {
   "cell_type": "markdown",
   "metadata": {},
   "source": [
    "В первом ящике находится 8 мячей, из которых 5 - белые. Во втором ящике - 12 мячей, из которых 5 белых. Из первого ящика вытаскивают случайным образом два мяча, из второго - 4. Какова вероятность того, что 3 мяча белые?"
   ]
  },
  {
   "cell_type": "markdown",
   "metadata": {},
   "source": [
    "### Решение"
   ]
  },
  {
   "cell_type": "markdown",
   "metadata": {},
   "source": [
    "Возможны 3 ситуации: \n",
    "1. Из первого ящика вытащили 2 черных, из второго - 3 белых и 1 черный \\\n",
    "2. Из первого ящика 1 белый и 1 черный, из второго - 2 белых и 2 черных \\\n",
    "3. Из первого ящика 2 белых, из второго - 1 белый и 3 черных\n",
    "\n",
    "Рассчитаем первую ситуацию\n",
    "\n",
    "$P1 = \\frac{C1_3^2}{C1_8^2}\\cdot\\frac{C2_5^3 \\cdot C2_7^1}{C2_{12}^4}$"
   ]
  },
  {
   "cell_type": "code",
   "execution_count": null,
   "metadata": {},
   "outputs": [],
   "source": [
    "P1 = com(3, 2) / com(8, 2) * com(5,3) * com(7,1)/ com(12, 4)\n",
    "P1"
   ]
  },
  {
   "cell_type": "markdown",
   "metadata": {},
   "source": [
    "Рассчитаем вторую ситуацию\n",
    "\n",
    "$P2 = \\frac{C1_5^1\\cdot C1_3^1}{C1_8^2}\\cdot\\frac{C2_5^2 \\cdot C2_7^2}{C2_{12}^4}$"
   ]
  },
  {
   "cell_type": "code",
   "execution_count": null,
   "metadata": {},
   "outputs": [],
   "source": [
    "P2 = com(5, 1) * com(3, 1) / com(8, 2) * com(5,2) * com(7,2)/ com(12, 4)\n",
    "P2"
   ]
  },
  {
   "cell_type": "markdown",
   "metadata": {},
   "source": [
    "Рассчитаем третью ситуацию\n",
    "\n",
    "$P3 = \\frac{C1_5^2}{C1_8^2}\\cdot\\frac{C2_5^1 \\cdot C2_7^3}{C2_{12}^4}$"
   ]
  },
  {
   "cell_type": "code",
   "execution_count": null,
   "metadata": {},
   "outputs": [],
   "source": [
    "P3 = com(5, 2) / com(8, 2) * com(5, 1) * com(7, 3)/ com(12, 4)\n",
    "P3"
   ]
  },
  {
   "cell_type": "markdown",
   "metadata": {},
   "source": [
    "Итоговая вероятность будет равна сумме вероятностей: $P = P1 + P2 + P3$"
   ]
  },
  {
   "cell_type": "code",
   "execution_count": null,
   "metadata": {},
   "outputs": [],
   "source": [
    "P = P1 + P2 + P3\n",
    "P"
   ]
  },
  {
   "cell_type": "markdown",
   "metadata": {},
   "source": [
    "## Задание 3"
   ]
  },
  {
   "cell_type": "markdown",
   "metadata": {},
   "source": [
    "На соревновании по биатлону один из трех спортсменов стреляет и попадает в мишень. Вероятность попадания для первого спортсмена равна 0.9, для второго — 0.8, для третьего — 0.6. Найти вероятность того, что выстрел произведен:\n",
    "\n",
    "a). первым спортсменом \\\n",
    "б). вторым спортсменом \\\n",
    "в). третьим спортсменом."
   ]
  },
  {
   "cell_type": "markdown",
   "metadata": {},
   "source": [
    "### Решение"
   ]
  },
  {
   "cell_type": "markdown",
   "metadata": {},
   "source": [
    "$P(B1) = 1/3$ \\\n",
    "$P(B2) = 1/3$ \\\n",
    "$P(B3) = 1/3$ \\\n",
    "$P(A|B1) = 0.9$ \\\n",
    "$P(A|B2) = 0.8$ \\\n",
    "$P(A|B3) = 0.6$\n",
    "\n",
    "$P(A) = 1/3 \\cdot 0.9 + 1/3 \\cdot 0.8 + 1/3 \\cdot 0.6$"
   ]
  },
  {
   "cell_type": "code",
   "execution_count": null,
   "metadata": {},
   "outputs": [],
   "source": [
    "PA = 1/3 * 0.9 + 1/3*0.8 + 1/3*0.6\n",
    "PA"
   ]
  },
  {
   "cell_type": "markdown",
   "metadata": {},
   "source": [
    "a) $P(B1|A) = P(B1) * P(A|B1) / P(A)$ \\\n",
    "b) $P(B2|A) = P(B2) * P(A|B2) / P(A)$ \\\n",
    "c) $P(B3|A) = P(B3) * P(A|B3) / P(A)$"
   ]
  },
  {
   "cell_type": "code",
   "execution_count": 20,
   "metadata": {},
   "outputs": [
    {
     "data": {
      "text/plain": [
       "(1.6363636363636362, 1.4545454545454544, 1.0909090909090908)"
      ]
     },
     "execution_count": 20,
     "metadata": {},
     "output_type": "execute_result"
    }
   ],
   "source": [
    "Pb1a = 1/3 * 0.9 / PA\n",
    "Pb2a = 1/3 * 0.8 / PA\n",
    "Pb3a = 1/3 * 0.6 / PA\n",
    "\n",
    "Pb1a, Pb2a, Pb3a"
   ]
  },
  {
   "cell_type": "markdown",
   "metadata": {},
   "source": [
    "## Задание 4"
   ]
  },
  {
   "cell_type": "markdown",
   "metadata": {},
   "source": [
    "В университет на факультеты A и B поступило равное количество студентов, а на факультет C студентов поступило столько же, сколько на A и B вместе. Вероятность того, что студент факультета A сдаст первую сессию, равна 0.8. Для студента факультета B эта вероятность равна 0.7, а для студента факультета C - 0.9. Студент сдал первую сессию. Какова вероятность, что он учится: a). на факультете A б). на факультете B в). на факультете C?"
   ]
  },
  {
   "cell_type": "markdown",
   "metadata": {},
   "source": [
    "### Решение"
   ]
  },
  {
   "cell_type": "markdown",
   "metadata": {},
   "source": [
    "$P(B1) = 1/4$ \\\n",
    "$P(B2) = 1/4$ \\\n",
    "$P(B3) = 1/2$ \\\n",
    "$P(A|B1) = 0.8$ \\\n",
    "$P(A|B2) = 0.7$ \\\n",
    "$P(A|B3) = 0.9$\n",
    "\n",
    "$P(A) = 1/4 \\cdot 0.8 + 1/4 \\cdot 0.7 + 1/2 \\cdot 0.9$"
   ]
  },
  {
   "cell_type": "code",
   "execution_count": 1,
   "metadata": {},
   "outputs": [
    {
     "data": {
      "text/plain": [
       "0.825"
      ]
     },
     "execution_count": 1,
     "metadata": {},
     "output_type": "execute_result"
    }
   ],
   "source": [
    "PA = 1/4 * 0.8 + 1/4*0.7 + 1/2*0.9\n",
    "PA"
   ]
  },
  {
   "cell_type": "markdown",
   "metadata": {},
   "source": [
    "a) $P(B1|A) = P(B1) * P(A|B1) / P(A)$ \\\n",
    "b) $P(B2|A) = P(B2) * P(A|B2) / P(A)$ \\\n",
    "c) $P(B3|A) = P(B3) * P(A|B3) / P(A)$"
   ]
  },
  {
   "cell_type": "code",
   "execution_count": 2,
   "metadata": {},
   "outputs": [
    {
     "data": {
      "text/plain": [
       "(0.24242424242424246, 0.21212121212121213, 0.5454545454545455)"
      ]
     },
     "execution_count": 2,
     "metadata": {},
     "output_type": "execute_result"
    }
   ],
   "source": [
    "Pb1a = 1/4 * 0.8 / PA\n",
    "Pb2a = 1/4 * 0.7 / PA\n",
    "Pb3a = 1/2 * 0.9 / PA\n",
    "\n",
    "Pb1a, Pb2a, Pb3a"
   ]
  },
  {
   "cell_type": "markdown",
   "metadata": {},
   "source": [
    "## Задание 5"
   ]
  },
  {
   "cell_type": "markdown",
   "metadata": {},
   "source": [
    "Устройство состоит из трех деталей. Для первой детали вероятность выйти из строя в первый месяц равна 0.1, для второй - 0.2, для третьей - 0.25. Какова вероятность того, что в первый месяц выйдут из строя: а). все детали б). только две детали в). хотя бы одна деталь г). от одной до двух деталей?"
   ]
  },
  {
   "cell_type": "markdown",
   "metadata": {},
   "source": [
    "### Решение"
   ]
  },
  {
   "cell_type": "code",
   "execution_count": 11,
   "metadata": {},
   "outputs": [],
   "source": [
    "P1 = 0.1\n",
    "P2 = 0.2\n",
    "P3 = 0.25"
   ]
  },
  {
   "cell_type": "code",
   "execution_count": 19,
   "metadata": {},
   "outputs": [
    {
     "data": {
      "text/plain": [
       "(0.005000000000000001,\n",
       " 0.08000000000000002,\n",
       " 0.45999999999999996,\n",
       " 0.5750000000000001)"
      ]
     },
     "execution_count": 19,
     "metadata": {},
     "output_type": "execute_result"
    }
   ],
   "source": [
    "# Вероятность, что все детали выйдут из строя в первый месяц\n",
    "P_all = P1 * P2 * P3\n",
    "\n",
    "# Вероятность, что только две\n",
    "P_2 = (P1 * P2 * (1 - P3)) + (P1 * (1 - P2) * P3) + ((1 - P1) * P2 * P3)\n",
    "\n",
    "# Вероятность, что хотябы одна\n",
    "P_at_least_one = 1 - (1 - P1)*(1 - P2)*(1 - P3)\n",
    "\n",
    "# Вероятность, что от одной до двух выйдет из строя\n",
    "P_1to2 = P2 + (P1 * (1 - P2) * (1 - P3)) + (P2 * (1 - P1) * (1 - P3)) + (P3 * (1 - P1) * (1 - P2)) \n",
    "\n",
    "P_all, P_2, P_at_least_one, P_1to2"
   ]
  }
 ],
 "metadata": {
  "kernelspec": {
   "display_name": "Python 3",
   "language": "python",
   "name": "python3"
  },
  "language_info": {
   "codemirror_mode": {
    "name": "ipython",
    "version": 3
   },
   "file_extension": ".py",
   "mimetype": "text/x-python",
   "name": "python",
   "nbconvert_exporter": "python",
   "pygments_lexer": "ipython3",
   "version": "3.8.2"
  }
 },
 "nbformat": 4,
 "nbformat_minor": 4
}
